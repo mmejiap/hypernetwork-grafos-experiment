{
 "cells": [
  {
   "cell_type": "code",
   "execution_count": 1,
   "metadata": {},
   "outputs": [],
   "source": [
    "import pandas as pd\n",
    "import numpy as np\n",
    "from sklearn.metrics import confusion_matrix\n",
    "from sklearn.metrics import classification_report\n",
    "from sklearn.utils.multiclass import unique_labels\n",
    "import seaborn as sns\n",
    "from matplotlib import pyplot as plt"
   ]
  },
  {
   "cell_type": "markdown",
   "metadata": {},
   "source": [
    "# Dataset 0\n"
   ]
  },
  {
   "cell_type": "code",
   "execution_count": 2,
   "metadata": {},
   "outputs": [],
   "source": [
    "df_0 = pd.read_csv('../DATASET-10_6/dataset0/train0.csv',header=None,skiprows=1,sep='\\t')\n",
    "df_0.columns=['graph','sub_graph']"
   ]
  },
  {
   "cell_type": "code",
   "execution_count": 3,
   "metadata": {},
   "outputs": [],
   "source": [
    "df_0['graph'] = [str(df_0['graph'][i]).zfill(10) for i in range(len(df_0['graph']))]\n",
    "df_0['sub_graph'] = [str(df_0['sub_graph'][i]).zfill(6) for i in range(len(df_0['sub_graph']))]"
   ]
  },
  {
   "cell_type": "code",
   "execution_count": 4,
   "metadata": {},
   "outputs": [],
   "source": [
    "X_train = list(df_0['graph'])\n",
    "y_train = list(df_0['sub_graph'])"
   ]
  },
  {
   "cell_type": "code",
   "execution_count": 5,
   "metadata": {},
   "outputs": [],
   "source": [
    "df_0['graph']=[[int(df_0['graph'][j][i]) for i in range(len(df_0['graph'][j]))] for j in range(len(df_0['graph']))]\n",
    "df_0['sub_graph']=[[int(df_0['sub_graph'][j][i]) for i in range(len(df_0['sub_graph'][j]))] for j in range(len(df_0['sub_graph']))]"
   ]
  },
  {
   "cell_type": "code",
   "execution_count": 6,
   "metadata": {},
   "outputs": [
    {
     "data": {
      "text/html": [
       "<div>\n",
       "<style scoped>\n",
       "    .dataframe tbody tr th:only-of-type {\n",
       "        vertical-align: middle;\n",
       "    }\n",
       "\n",
       "    .dataframe tbody tr th {\n",
       "        vertical-align: top;\n",
       "    }\n",
       "\n",
       "    .dataframe thead th {\n",
       "        text-align: right;\n",
       "    }\n",
       "</style>\n",
       "<table border=\"1\" class=\"dataframe\">\n",
       "  <thead>\n",
       "    <tr style=\"text-align: right;\">\n",
       "      <th></th>\n",
       "      <th>graph</th>\n",
       "      <th>sub_graph</th>\n",
       "    </tr>\n",
       "  </thead>\n",
       "  <tbody>\n",
       "    <tr>\n",
       "      <th>0</th>\n",
       "      <td>[1, 1, 0, 0, 1, 0, 1, 0, 1, 0]</td>\n",
       "      <td>[1, 1, 0, 1, 0, 0]</td>\n",
       "    </tr>\n",
       "    <tr>\n",
       "      <th>1</th>\n",
       "      <td>[1, 0, 0, 0, 1, 0, 0, 0, 1, 1]</td>\n",
       "      <td>[1, 0, 0, 1, 0, 0]</td>\n",
       "    </tr>\n",
       "    <tr>\n",
       "      <th>2</th>\n",
       "      <td>[0, 1, 0, 0, 0, 0, 0, 1, 0, 0]</td>\n",
       "      <td>[0, 1, 0, 0, 0, 1]</td>\n",
       "    </tr>\n",
       "    <tr>\n",
       "      <th>3</th>\n",
       "      <td>[1, 1, 0, 1, 0, 0, 1, 0, 0, 1]</td>\n",
       "      <td>[1, 1, 0, 0, 0, 0]</td>\n",
       "    </tr>\n",
       "    <tr>\n",
       "      <th>4</th>\n",
       "      <td>[0, 0, 0, 1, 1, 0, 1, 1, 0, 0]</td>\n",
       "      <td>[0, 0, 0, 1, 0, 1]</td>\n",
       "    </tr>\n",
       "  </tbody>\n",
       "</table>\n",
       "</div>"
      ],
      "text/plain": [
       "                            graph           sub_graph\n",
       "0  [1, 1, 0, 0, 1, 0, 1, 0, 1, 0]  [1, 1, 0, 1, 0, 0]\n",
       "1  [1, 0, 0, 0, 1, 0, 0, 0, 1, 1]  [1, 0, 0, 1, 0, 0]\n",
       "2  [0, 1, 0, 0, 0, 0, 0, 1, 0, 0]  [0, 1, 0, 0, 0, 1]\n",
       "3  [1, 1, 0, 1, 0, 0, 1, 0, 0, 1]  [1, 1, 0, 0, 0, 0]\n",
       "4  [0, 0, 0, 1, 1, 0, 1, 1, 0, 0]  [0, 0, 0, 1, 0, 1]"
      ]
     },
     "execution_count": 6,
     "metadata": {},
     "output_type": "execute_result"
    }
   ],
   "source": [
    "df_0.head()"
   ]
  },
  {
   "cell_type": "code",
   "execution_count": 7,
   "metadata": {},
   "outputs": [],
   "source": [
    "from sklearn.neural_network import MLPClassifier"
   ]
  },
  {
   "cell_type": "code",
   "execution_count": 8,
   "metadata": {},
   "outputs": [],
   "source": [
    "cls = MLPClassifier(solver='lbfgs',alpha=1e-5,hidden_layer_sizes=(10,10,6),random_state=1)"
   ]
  },
  {
   "cell_type": "code",
   "execution_count": 9,
   "metadata": {},
   "outputs": [
    {
     "data": {
      "text/plain": [
       "MLPClassifier(activation='relu', alpha=1e-05, batch_size='auto', beta_1=0.9,\n",
       "              beta_2=0.999, early_stopping=False, epsilon=1e-08,\n",
       "              hidden_layer_sizes=(10, 10, 6), learning_rate='constant',\n",
       "              learning_rate_init=0.001, max_iter=200, momentum=0.9,\n",
       "              n_iter_no_change=10, nesterovs_momentum=True, power_t=0.5,\n",
       "              random_state=1, shuffle=True, solver='lbfgs', tol=0.0001,\n",
       "              validation_fraction=0.1, verbose=False, warm_start=False)"
      ]
     },
     "execution_count": 9,
     "metadata": {},
     "output_type": "execute_result"
    }
   ],
   "source": [
    "cls.fit(list(df_0['graph']),list(df_0['sub_graph']))"
   ]
  },
  {
   "cell_type": "code",
   "execution_count": 10,
   "metadata": {},
   "outputs": [],
   "source": [
    "df_0_test = pd.read_csv('../DATASET-10_6/dataset0/test0.csv',header=None,skiprows=1,sep='\\t')\n",
    "df_0_test.columns=['graph','sub_graph']"
   ]
  },
  {
   "cell_type": "code",
   "execution_count": 11,
   "metadata": {},
   "outputs": [],
   "source": [
    "df_0_test['graph'] = [str(df_0_test['graph'][i]).zfill(10) for i in range(len(df_0_test['graph']))]\n",
    "df_0_test['sub_graph'] = [str(df_0_test['sub_graph'][i]).zfill(6) for i in range(len(df_0_test['sub_graph']))]"
   ]
  },
  {
   "cell_type": "code",
   "execution_count": 12,
   "metadata": {},
   "outputs": [],
   "source": [
    "df_0_test['graph']=[[int(df_0_test['graph'][j][i]) for i in range(len(df_0['graph'][j]))] for j in range(len(df_0_test['graph']))]\n",
    "df_0_test['sub_graph']=[[int(df_0_test['sub_graph'][j][i]) for i in range(len(df_0['sub_graph'][j]))] for j in range(len(df_0_test['sub_graph']))]"
   ]
  },
  {
   "cell_type": "code",
   "execution_count": 13,
   "metadata": {},
   "outputs": [
    {
     "data": {
      "text/html": [
       "<div>\n",
       "<style scoped>\n",
       "    .dataframe tbody tr th:only-of-type {\n",
       "        vertical-align: middle;\n",
       "    }\n",
       "\n",
       "    .dataframe tbody tr th {\n",
       "        vertical-align: top;\n",
       "    }\n",
       "\n",
       "    .dataframe thead th {\n",
       "        text-align: right;\n",
       "    }\n",
       "</style>\n",
       "<table border=\"1\" class=\"dataframe\">\n",
       "  <thead>\n",
       "    <tr style=\"text-align: right;\">\n",
       "      <th></th>\n",
       "      <th>graph</th>\n",
       "      <th>sub_graph</th>\n",
       "    </tr>\n",
       "  </thead>\n",
       "  <tbody>\n",
       "    <tr>\n",
       "      <th>0</th>\n",
       "      <td>[1, 0, 1, 1, 0, 0, 0, 1, 1, 0]</td>\n",
       "      <td>[1, 0, 1, 0, 0, 1]</td>\n",
       "    </tr>\n",
       "    <tr>\n",
       "      <th>1</th>\n",
       "      <td>[0, 0, 0, 1, 1, 1, 0, 1, 1, 0]</td>\n",
       "      <td>[0, 0, 0, 1, 1, 1]</td>\n",
       "    </tr>\n",
       "    <tr>\n",
       "      <th>2</th>\n",
       "      <td>[1, 0, 0, 0, 0, 0, 1, 0, 1, 1]</td>\n",
       "      <td>[1, 0, 0, 0, 0, 0]</td>\n",
       "    </tr>\n",
       "    <tr>\n",
       "      <th>3</th>\n",
       "      <td>[0, 0, 1, 0, 0, 1, 0, 1, 0, 0]</td>\n",
       "      <td>[0, 0, 1, 0, 1, 1]</td>\n",
       "    </tr>\n",
       "    <tr>\n",
       "      <th>4</th>\n",
       "      <td>[0, 0, 1, 1, 0, 0, 1, 0, 1, 1]</td>\n",
       "      <td>[0, 0, 1, 0, 0, 0]</td>\n",
       "    </tr>\n",
       "  </tbody>\n",
       "</table>\n",
       "</div>"
      ],
      "text/plain": [
       "                            graph           sub_graph\n",
       "0  [1, 0, 1, 1, 0, 0, 0, 1, 1, 0]  [1, 0, 1, 0, 0, 1]\n",
       "1  [0, 0, 0, 1, 1, 1, 0, 1, 1, 0]  [0, 0, 0, 1, 1, 1]\n",
       "2  [1, 0, 0, 0, 0, 0, 1, 0, 1, 1]  [1, 0, 0, 0, 0, 0]\n",
       "3  [0, 0, 1, 0, 0, 1, 0, 1, 0, 0]  [0, 0, 1, 0, 1, 1]\n",
       "4  [0, 0, 1, 1, 0, 0, 1, 0, 1, 1]  [0, 0, 1, 0, 0, 0]"
      ]
     },
     "execution_count": 13,
     "metadata": {},
     "output_type": "execute_result"
    }
   ],
   "source": [
    "df_0_test.head()"
   ]
  },
  {
   "cell_type": "code",
   "execution_count": 14,
   "metadata": {},
   "outputs": [
    {
     "data": {
      "text/plain": [
       "array([[1, 1, 1, 0, 0, 1],\n",
       "       [0, 0, 0, 1, 1, 1],\n",
       "       [1, 0, 0, 0, 0, 0],\n",
       "       ...,\n",
       "       [1, 1, 1, 1, 0, 0],\n",
       "       [0, 1, 1, 1, 1, 1],\n",
       "       [0, 0, 1, 1, 1, 1]])"
      ]
     },
     "execution_count": 14,
     "metadata": {},
     "output_type": "execute_result"
    }
   ],
   "source": [
    "cls.predict(list(df_0_test['graph']))"
   ]
  },
  {
   "cell_type": "code",
   "execution_count": 15,
   "metadata": {},
   "outputs": [],
   "source": [
    "y_pred = cls.predict(list(df_0_test['graph']))"
   ]
  },
  {
   "cell_type": "code",
   "execution_count": 16,
   "metadata": {},
   "outputs": [
    {
     "data": {
      "text/plain": [
       "array([[7.81581760e-01, 7.76716908e-01, 9.56889528e-01, 7.40787394e-02,\n",
       "        4.10692630e-01, 9.35899877e-01],\n",
       "       [1.36250454e-02, 1.91721202e-03, 1.59399939e-10, 1.00000000e+00,\n",
       "        9.96601855e-01, 1.00000000e+00],\n",
       "       [9.99961753e-01, 3.05385107e-03, 8.73775855e-34, 2.13082902e-06,\n",
       "        8.86516222e-03, 1.98017292e-28],\n",
       "       ...,\n",
       "       [9.99999981e-01, 9.99676078e-01, 1.00000000e+00, 1.00000000e+00,\n",
       "        4.64898157e-04, 1.09061721e-25],\n",
       "       [2.82865886e-04, 9.91907058e-01, 1.00000000e+00, 9.99996392e-01,\n",
       "        9.97655667e-01, 1.00000000e+00],\n",
       "       [7.98729380e-09, 7.73844190e-05, 1.00000000e+00, 1.00000000e+00,\n",
       "        9.99849097e-01, 1.00000000e+00]])"
      ]
     },
     "execution_count": 16,
     "metadata": {},
     "output_type": "execute_result"
    }
   ],
   "source": [
    "cls.predict_proba(list(df_0_test['graph']))"
   ]
  },
  {
   "cell_type": "code",
   "execution_count": 17,
   "metadata": {},
   "outputs": [],
   "source": [
    "from sklearn.metrics import multilabel_confusion_matrix"
   ]
  },
  {
   "cell_type": "code",
   "execution_count": 18,
   "metadata": {},
   "outputs": [],
   "source": [
    "labels = ['{0:06b}'.format(i) for i in range(2**6)]"
   ]
  },
  {
   "cell_type": "code",
   "execution_count": 19,
   "metadata": {},
   "outputs": [
    {
     "data": {
      "text/html": [
       "<div>\n",
       "<style scoped>\n",
       "    .dataframe tbody tr th:only-of-type {\n",
       "        vertical-align: middle;\n",
       "    }\n",
       "\n",
       "    .dataframe tbody tr th {\n",
       "        vertical-align: top;\n",
       "    }\n",
       "\n",
       "    .dataframe thead th {\n",
       "        text-align: right;\n",
       "    }\n",
       "</style>\n",
       "<table border=\"1\" class=\"dataframe\">\n",
       "  <thead>\n",
       "    <tr style=\"text-align: right;\">\n",
       "      <th></th>\n",
       "      <th>graph</th>\n",
       "      <th>sub_graph</th>\n",
       "    </tr>\n",
       "  </thead>\n",
       "  <tbody>\n",
       "    <tr>\n",
       "      <th>0</th>\n",
       "      <td>[1, 0, 1, 1, 0, 0, 0, 1, 1, 0]</td>\n",
       "      <td>[1, 0, 1, 0, 0, 1]</td>\n",
       "    </tr>\n",
       "    <tr>\n",
       "      <th>1</th>\n",
       "      <td>[0, 0, 0, 1, 1, 1, 0, 1, 1, 0]</td>\n",
       "      <td>[0, 0, 0, 1, 1, 1]</td>\n",
       "    </tr>\n",
       "    <tr>\n",
       "      <th>2</th>\n",
       "      <td>[1, 0, 0, 0, 0, 0, 1, 0, 1, 1]</td>\n",
       "      <td>[1, 0, 0, 0, 0, 0]</td>\n",
       "    </tr>\n",
       "    <tr>\n",
       "      <th>3</th>\n",
       "      <td>[0, 0, 1, 0, 0, 1, 0, 1, 0, 0]</td>\n",
       "      <td>[0, 0, 1, 0, 1, 1]</td>\n",
       "    </tr>\n",
       "    <tr>\n",
       "      <th>4</th>\n",
       "      <td>[0, 0, 1, 1, 0, 0, 1, 0, 1, 1]</td>\n",
       "      <td>[0, 0, 1, 0, 0, 0]</td>\n",
       "    </tr>\n",
       "  </tbody>\n",
       "</table>\n",
       "</div>"
      ],
      "text/plain": [
       "                            graph           sub_graph\n",
       "0  [1, 0, 1, 1, 0, 0, 0, 1, 1, 0]  [1, 0, 1, 0, 0, 1]\n",
       "1  [0, 0, 0, 1, 1, 1, 0, 1, 1, 0]  [0, 0, 0, 1, 1, 1]\n",
       "2  [1, 0, 0, 0, 0, 0, 1, 0, 1, 1]  [1, 0, 0, 0, 0, 0]\n",
       "3  [0, 0, 1, 0, 0, 1, 0, 1, 0, 0]  [0, 0, 1, 0, 1, 1]\n",
       "4  [0, 0, 1, 1, 0, 0, 1, 0, 1, 1]  [0, 0, 1, 0, 0, 0]"
      ]
     },
     "execution_count": 19,
     "metadata": {},
     "output_type": "execute_result"
    }
   ],
   "source": [
    "df_0_test.head()"
   ]
  },
  {
   "cell_type": "code",
   "execution_count": 20,
   "metadata": {
    "scrolled": true
   },
   "outputs": [],
   "source": [
    "y_true = [(''.join(map(str, df_0_test['sub_graph'][i]))) for i in range(len(df_0_test['sub_graph']))]\n"
   ]
  },
  {
   "cell_type": "code",
   "execution_count": 21,
   "metadata": {},
   "outputs": [],
   "source": [
    "y_pred = [(''.join(map(str, y_pred[i]))) for i in range(len(y_pred))]"
   ]
  },
  {
   "cell_type": "code",
   "execution_count": 22,
   "metadata": {},
   "outputs": [],
   "source": [
    "y_true_train = y_train\n",
    "y_pred_train = cls.predict(list(df_0['graph']))"
   ]
  },
  {
   "cell_type": "code",
   "execution_count": 23,
   "metadata": {},
   "outputs": [],
   "source": [
    "y_pred_train = [(''.join(map(str, y_pred_train[i]))) for i in range(len(y_pred_train))]"
   ]
  },
  {
   "cell_type": "code",
   "execution_count": 24,
   "metadata": {},
   "outputs": [],
   "source": [
    "cm_train = confusion_matrix(y_true_train,y_pred_train)"
   ]
  },
  {
   "cell_type": "code",
   "execution_count": null,
   "metadata": {},
   "outputs": [],
   "source": [
    "fig_size = plt.rcParams[\"figure.figsize\"]\n",
    "fig_size[0] = 25\n",
    "fig_size[1] = 20\n",
    "plt.rcParams[\"figure.figsize\"] = fig_size\n",
    "\n",
    "\n",
    "\n",
    "ax= plt.subplot()\n",
    "sns.heatmap(cm_train, annot=True, ax = ax); #annot=True to annotate cells\n",
    "\n",
    "plt.title('Confusion matrix of the classifier')\n",
    "\n",
    "# labels, title and ticks\n",
    "ax.set_xlabel('Prediction graph');ax.set_ylabel('True graph'); \n",
    "ax.set_title('Confusion Matrix - TRAIN'); \n",
    "ax.xaxis.set_ticklabels(labels,rotation='vertical');\n",
    "ax.yaxis.set_ticklabels(labels,rotation='horizontal');"
   ]
  },
  {
   "cell_type": "code",
   "execution_count": null,
   "metadata": {},
   "outputs": [],
   "source": [
    "print(\"\\n\\n******************** TRAIN ******************** \\n\\n\")\n",
    "print(classification_report(y_true_train,y_pred_train))"
   ]
  },
  {
   "cell_type": "code",
   "execution_count": null,
   "metadata": {},
   "outputs": [],
   "source": [
    "cm = confusion_matrix(y_true, y_pred)"
   ]
  },
  {
   "cell_type": "code",
   "execution_count": null,
   "metadata": {},
   "outputs": [],
   "source": [
    "fig_size = plt.rcParams[\"figure.figsize\"]\n",
    "fig_size[0] = 25\n",
    "fig_size[1] = 20\n",
    "plt.rcParams[\"figure.figsize\"] = fig_size\n",
    "\n",
    "\n",
    "\n",
    "ax= plt.subplot()\n",
    "sns.heatmap(cm, annot=True, ax = ax); #annot=True to annotate cells\n",
    "\n",
    "plt.title('Confusion matrix of the classifier')\n",
    "\n",
    "# labels, title and ticks\n",
    "ax.set_xlabel('Prediction graph');ax.set_ylabel('True graph'); \n",
    "ax.set_title('Confusion Matrix - TEST'); \n",
    "ax.xaxis.set_ticklabels(labels,rotation='vertical');\n",
    "ax.yaxis.set_ticklabels(labels,rotation='horizontal');"
   ]
  },
  {
   "cell_type": "code",
   "execution_count": null,
   "metadata": {},
   "outputs": [],
   "source": [
    "print(\"\\n\\n******************** TEST ******************** \\n\\n\")\n",
    "print(classification_report(y_true, y_pred))"
   ]
  },
  {
   "cell_type": "markdown",
   "metadata": {},
   "source": []
  }
 ],
 "metadata": {
  "kernelspec": {
   "display_name": "Python 3",
   "language": "python",
   "name": "python3"
  },
  "language_info": {
   "codemirror_mode": {
    "name": "ipython",
    "version": 3
   },
   "file_extension": ".py",
   "mimetype": "text/x-python",
   "name": "python",
   "nbconvert_exporter": "python",
   "pygments_lexer": "ipython3",
   "version": "3.7.3"
  }
 },
 "nbformat": 4,
 "nbformat_minor": 2
}
